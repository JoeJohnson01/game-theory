{
 "cells": [
  {
   "cell_type": "code",
   "execution_count": 1,
   "metadata": {},
   "outputs": [],
   "source": [
    "from simulation import Simulation"
   ]
  },
  {
   "cell_type": "markdown",
   "metadata": {},
   "source": [
    "# Static Game"
   ]
  },
  {
   "cell_type": "code",
   "execution_count": null,
   "metadata": {},
   "outputs": [],
   "source": [
    "num_agents = 101\n",
    "memory_size = 1\n",
    "num_rounds = 1\n",
    "exploration_rounds = 1\n",
    "num_games = 500\n",
    "minority_threshold = 0.3\n",
    "inductive = False\n",
    "\n",
    "simulation_static = Simulation(num_agents, memory_size, num_rounds, exploration_rounds, num_games, minority_threshold, inductive)"
   ]
  },
  {
   "cell_type": "code",
   "execution_count": null,
   "metadata": {},
   "outputs": [],
   "source": [
    "simulation_static.plot_agents_in_minority_single_shot()"
   ]
  },
  {
   "cell_type": "markdown",
   "metadata": {},
   "source": [
    "# Non-inductive Repeated Game"
   ]
  },
  {
   "cell_type": "code",
   "execution_count": null,
   "metadata": {},
   "outputs": [],
   "source": [
    "num_agents = 101\n",
    "memory_size = 1\n",
    "num_rounds = 200\n",
    "exploration_rounds = 1\n",
    "num_games = 10\n",
    "minority_threshold = 0.1\n",
    "inductive = False\n",
    "\n",
    "simulation_repeated = Simulation(num_agents, memory_size, num_rounds, exploration_rounds, num_games, minority_threshold, inductive)\n"
   ]
  },
  {
   "cell_type": "code",
   "execution_count": null,
   "metadata": {},
   "outputs": [],
   "source": [
    "simulation_repeated.plot_agents_in_minority()"
   ]
  },
  {
   "cell_type": "code",
   "execution_count": null,
   "metadata": {},
   "outputs": [],
   "source": [
    "simulation_repeated.plot_combined_rewards_distribution()"
   ]
  },
  {
   "cell_type": "code",
   "execution_count": null,
   "metadata": {},
   "outputs": [],
   "source": [
    "num_agents = 101\n",
    "memory_size = 1\n",
    "num_rounds = 200\n",
    "exploration_rounds = 1\n",
    "num_games = 10\n",
    "minority_threshold = 0.1\n",
    "inductive = False\n",
    "\n",
    "repeated_success_rates=[]\n",
    "\n",
    "minority_thresholds = [0.01, 0.02, 0.03, 0.05, 0.1, 0.2, 0.3, 0.4, 0.5, 0.6 ,0.7, 0.8, 0.9, 0.95, 0.99]\n",
    "\n",
    "for minority_threshold in minority_thresholds:\n",
    "    s = Simulation(num_agents, memory_size, num_rounds, exploration_rounds, num_games, minority_threshold, inductive)\n",
    "    repeated_success_rates.append(s.mean_agent_success_rate_percentage())"
   ]
  },
  {
   "cell_type": "markdown",
   "metadata": {},
   "source": [
    "# Inductive Repeated Game"
   ]
  },
  {
   "cell_type": "code",
   "execution_count": null,
   "metadata": {},
   "outputs": [],
   "source": [
    "num_agents = 101\n",
    "memory_size = 10\n",
    "num_rounds = 200\n",
    "exploration_rounds = 10\n",
    "num_games = 20\n",
    "minority_threshold = 0.3\n",
    "inductive = True\n",
    "\n",
    "simulation_inductive = Simulation(num_agents, memory_size, num_rounds, exploration_rounds, num_games, minority_threshold, inductive)"
   ]
  },
  {
   "cell_type": "code",
   "execution_count": null,
   "metadata": {},
   "outputs": [],
   "source": [
    "simulation_inductive.plot_agents_in_minority()"
   ]
  },
  {
   "cell_type": "code",
   "execution_count": null,
   "metadata": {},
   "outputs": [],
   "source": [
    "# simulation_inductive.plot_agent_scores_by_strategy()"
   ]
  },
  {
   "cell_type": "code",
   "execution_count": null,
   "metadata": {},
   "outputs": [],
   "source": [
    "simulation_inductive.plot_average_strategy_success()"
   ]
  },
  {
   "cell_type": "code",
   "execution_count": null,
   "metadata": {},
   "outputs": [],
   "source": [
    "simulation_inductive.plot_switching_heatmap()"
   ]
  },
  {
   "cell_type": "code",
   "execution_count": null,
   "metadata": {},
   "outputs": [],
   "source": [
    "simulation_inductive.plot_combined_rewards_distribution()"
   ]
  },
  {
   "cell_type": "code",
   "execution_count": null,
   "metadata": {},
   "outputs": [],
   "source": [
    "simulation_inductive.plot_combined_strategy_distribution()"
   ]
  },
  {
   "cell_type": "code",
   "execution_count": 3,
   "metadata": {},
   "outputs": [
    {
     "name": "stdout",
     "output_type": "stream",
     "text": [
      "Loaded existing data\n",
      "Loaded existing data\n",
      "Loaded existing data\n",
      "Loaded existing data\n",
      "Loaded existing data\n",
      "Loaded existing data\n",
      "Loaded existing data\n",
      "Loaded existing data\n",
      "Loaded existing data\n",
      "Loaded existing data\n",
      "Loaded existing data\n",
      "Loaded existing data\n",
      "Loaded existing data\n",
      "Loaded existing data\n",
      "Loaded existing data\n"
     ]
    }
   ],
   "source": [
    "num_agents = 101\n",
    "memory_size = 10\n",
    "num_rounds = 200\n",
    "exploration_rounds = 10\n",
    "num_games = 20\n",
    "inductive = True\n",
    "\n",
    "inductive_success_rates=[]\n",
    "\n",
    "minority_thresholds = [0.01, 0.02, 0.03, 0.05, 0.1, 0.2, 0.3, 0.4, 0.5, 0.6 ,0.7, 0.8, 0.9, 0.95, 0.99]\n",
    "\n",
    "for minority_threshold in minority_thresholds:\n",
    "    s = Simulation(num_agents, memory_size, num_rounds, exploration_rounds, num_games, minority_threshold, inductive)\n",
    "    inductive_success_rates.append(s.mean_agent_success_rate_percentage())"
   ]
  }
 ],
 "metadata": {
  "kernelspec": {
   "display_name": "Python 3",
   "language": "python",
   "name": "python3"
  },
  "language_info": {
   "codemirror_mode": {
    "name": "ipython",
    "version": 3
   },
   "file_extension": ".py",
   "mimetype": "text/x-python",
   "name": "python",
   "nbconvert_exporter": "python",
   "pygments_lexer": "ipython3",
   "version": "3.10.11"
  }
 },
 "nbformat": 4,
 "nbformat_minor": 2
}
